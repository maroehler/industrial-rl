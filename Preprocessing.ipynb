{
 "cells": [
  {
   "cell_type": "code",
   "execution_count": 1,
   "metadata": {},
   "outputs": [],
   "source": [
    "import numpy as np\n",
    "import pandas as pd\n",
    "import itertools\n",
    "import pickle as pickle\n",
    "from collections import Counter"
   ]
  },
  {
   "cell_type": "code",
   "execution_count": 2,
   "metadata": {
    "scrolled": true
   },
   "outputs": [
    {
     "output_type": "execute_result",
     "data": {
      "text/plain": [
       "             Skill:Reach  Skill:Fixate  Skill:Push  Skill:Slide  \\\n",
       "Case Number                                                       \n",
       "1                      1             0           0            0   \n",
       "2                      1             0           0            0   \n",
       "3                      0             1           0            0   \n",
       "4                      1             0           0            0   \n",
       "5                      1             0           1            0   \n",
       "\n",
       "             Skill:Pick&Place  Skill:Orient  Condition:Moving_Target  \\\n",
       "Case Number                                                            \n",
       "1                           0             0                        1   \n",
       "2                           0             0                        0   \n",
       "3                           0             0                        0   \n",
       "4                           0             0                        0   \n",
       "5                           0             0                        0   \n",
       "\n",
       "             Condition:With_Collision  Condition:Keep_in_Position  \\\n",
       "Case Number                                                         \n",
       "1                                   0                           0   \n",
       "2                                   0                           0   \n",
       "3                                   0                           1   \n",
       "4                                   0                           0   \n",
       "5                                   0                           0   \n",
       "\n",
       "             Action:Continious  Action:Discrete  Observation:Scalar  \\\n",
       "Case Number                                                           \n",
       "1                            4                0                  26   \n",
       "2                            0                2                   1   \n",
       "3                            2                0                   8   \n",
       "4                            0                4                   0   \n",
       "5                            0                6                  70   \n",
       "\n",
       "             Observation:Visual(2D)  Condition:Not_fully_observable)  \n",
       "Case Number                                                           \n",
       "1                                 0                                0  \n",
       "2                                 0                                0  \n",
       "3                                 0                                0  \n",
       "4                                 1                                0  \n",
       "5                                 1                                0  "
      ],
      "text/html": "<div>\n<style scoped>\n    .dataframe tbody tr th:only-of-type {\n        vertical-align: middle;\n    }\n\n    .dataframe tbody tr th {\n        vertical-align: top;\n    }\n\n    .dataframe thead th {\n        text-align: right;\n    }\n</style>\n<table border=\"1\" class=\"dataframe\">\n  <thead>\n    <tr style=\"text-align: right;\">\n      <th></th>\n      <th>Skill:Reach</th>\n      <th>Skill:Fixate</th>\n      <th>Skill:Push</th>\n      <th>Skill:Slide</th>\n      <th>Skill:Pick&amp;Place</th>\n      <th>Skill:Orient</th>\n      <th>Condition:Moving_Target</th>\n      <th>Condition:With_Collision</th>\n      <th>Condition:Keep_in_Position</th>\n      <th>Action:Continious</th>\n      <th>Action:Discrete</th>\n      <th>Observation:Scalar</th>\n      <th>Observation:Visual(2D)</th>\n      <th>Condition:Not_fully_observable)</th>\n    </tr>\n    <tr>\n      <th>Case Number</th>\n      <th></th>\n      <th></th>\n      <th></th>\n      <th></th>\n      <th></th>\n      <th></th>\n      <th></th>\n      <th></th>\n      <th></th>\n      <th></th>\n      <th></th>\n      <th></th>\n      <th></th>\n      <th></th>\n    </tr>\n  </thead>\n  <tbody>\n    <tr>\n      <th>1</th>\n      <td>1</td>\n      <td>0</td>\n      <td>0</td>\n      <td>0</td>\n      <td>0</td>\n      <td>0</td>\n      <td>1</td>\n      <td>0</td>\n      <td>0</td>\n      <td>4</td>\n      <td>0</td>\n      <td>26</td>\n      <td>0</td>\n      <td>0</td>\n    </tr>\n    <tr>\n      <th>2</th>\n      <td>1</td>\n      <td>0</td>\n      <td>0</td>\n      <td>0</td>\n      <td>0</td>\n      <td>0</td>\n      <td>0</td>\n      <td>0</td>\n      <td>0</td>\n      <td>0</td>\n      <td>2</td>\n      <td>1</td>\n      <td>0</td>\n      <td>0</td>\n    </tr>\n    <tr>\n      <th>3</th>\n      <td>0</td>\n      <td>1</td>\n      <td>0</td>\n      <td>0</td>\n      <td>0</td>\n      <td>0</td>\n      <td>0</td>\n      <td>0</td>\n      <td>1</td>\n      <td>2</td>\n      <td>0</td>\n      <td>8</td>\n      <td>0</td>\n      <td>0</td>\n    </tr>\n    <tr>\n      <th>4</th>\n      <td>1</td>\n      <td>0</td>\n      <td>0</td>\n      <td>0</td>\n      <td>0</td>\n      <td>0</td>\n      <td>0</td>\n      <td>0</td>\n      <td>0</td>\n      <td>0</td>\n      <td>4</td>\n      <td>0</td>\n      <td>1</td>\n      <td>0</td>\n    </tr>\n    <tr>\n      <th>5</th>\n      <td>1</td>\n      <td>0</td>\n      <td>1</td>\n      <td>0</td>\n      <td>0</td>\n      <td>0</td>\n      <td>0</td>\n      <td>0</td>\n      <td>0</td>\n      <td>0</td>\n      <td>6</td>\n      <td>70</td>\n      <td>1</td>\n      <td>0</td>\n    </tr>\n  </tbody>\n</table>\n</div>"
     },
     "metadata": {},
     "execution_count": 2
    }
   ],
   "source": [
    "raw_case_description = pd.read_csv('data/case_vectors.csv', delimiter=';', index_col = 'Case Number')\n",
    "raw_case_description.head()"
   ]
  },
  {
   "cell_type": "code",
   "execution_count": 3,
   "metadata": {},
   "outputs": [
    {
     "output_type": "execute_result",
     "data": {
      "text/plain": [
       "{'Skill:Reach': 5,\n",
       " 'Skill:Fixate': 6,\n",
       " 'Skill:Push': 7,\n",
       " 'Skill:Slide': 8,\n",
       " 'Skill:Pick&Place': 9,\n",
       " 'Skill:Orient': 10,\n",
       " 'Condition:Moving_Target': 11,\n",
       " 'Condition:With_Collision': 12,\n",
       " 'Condition:Keep_in_Position': 13,\n",
       " 'Action:Continious': 14,\n",
       " 'Action:Discrete': 15,\n",
       " 'Observation:Scalar': 16,\n",
       " 'Observation:Visual(2D)': 17,\n",
       " 'Condition:Not_fully_observable)': 18}"
      ]
     },
     "metadata": {},
     "execution_count": 3
    }
   ],
   "source": [
    "# Extract all column names of the dataframe\n",
    "col_name = list(raw_case_description.columns)\n",
    "\n",
    "# Generating integer values starting from 5 to assign to all col_names\n",
    "name_int = list(range(5, 5 + len(raw_case_description.columns)))\n",
    "\n",
    "# Assigning all col_names an integer value from name_int\n",
    "col_values_dict = dict(zip(col_name, name_int))\n",
    "col_values_dict # This is the word index"
   ]
  },
  {
   "cell_type": "code",
   "execution_count": 4,
   "metadata": {},
   "outputs": [
    {
     "output_type": "execute_result",
     "data": {
      "text/plain": [
       "             5   6   7   8   9   10  11  12  13  14  15  16  17  18\n",
       "Case Number                                                        \n",
       "1             1   0   0   0   0   0   1   0   0   4   0  26   0   0\n",
       "2             1   0   0   0   0   0   0   0   0   0   2   1   0   0\n",
       "3             0   1   0   0   0   0   0   0   1   2   0   8   0   0\n",
       "4             1   0   0   0   0   0   0   0   0   0   4   0   1   0\n",
       "5             1   0   1   0   0   0   0   0   0   0   6  70   1   0"
      ],
      "text/html": "<div>\n<style scoped>\n    .dataframe tbody tr th:only-of-type {\n        vertical-align: middle;\n    }\n\n    .dataframe tbody tr th {\n        vertical-align: top;\n    }\n\n    .dataframe thead th {\n        text-align: right;\n    }\n</style>\n<table border=\"1\" class=\"dataframe\">\n  <thead>\n    <tr style=\"text-align: right;\">\n      <th></th>\n      <th>5</th>\n      <th>6</th>\n      <th>7</th>\n      <th>8</th>\n      <th>9</th>\n      <th>10</th>\n      <th>11</th>\n      <th>12</th>\n      <th>13</th>\n      <th>14</th>\n      <th>15</th>\n      <th>16</th>\n      <th>17</th>\n      <th>18</th>\n    </tr>\n    <tr>\n      <th>Case Number</th>\n      <th></th>\n      <th></th>\n      <th></th>\n      <th></th>\n      <th></th>\n      <th></th>\n      <th></th>\n      <th></th>\n      <th></th>\n      <th></th>\n      <th></th>\n      <th></th>\n      <th></th>\n      <th></th>\n    </tr>\n  </thead>\n  <tbody>\n    <tr>\n      <th>1</th>\n      <td>1</td>\n      <td>0</td>\n      <td>0</td>\n      <td>0</td>\n      <td>0</td>\n      <td>0</td>\n      <td>1</td>\n      <td>0</td>\n      <td>0</td>\n      <td>4</td>\n      <td>0</td>\n      <td>26</td>\n      <td>0</td>\n      <td>0</td>\n    </tr>\n    <tr>\n      <th>2</th>\n      <td>1</td>\n      <td>0</td>\n      <td>0</td>\n      <td>0</td>\n      <td>0</td>\n      <td>0</td>\n      <td>0</td>\n      <td>0</td>\n      <td>0</td>\n      <td>0</td>\n      <td>2</td>\n      <td>1</td>\n      <td>0</td>\n      <td>0</td>\n    </tr>\n    <tr>\n      <th>3</th>\n      <td>0</td>\n      <td>1</td>\n      <td>0</td>\n      <td>0</td>\n      <td>0</td>\n      <td>0</td>\n      <td>0</td>\n      <td>0</td>\n      <td>1</td>\n      <td>2</td>\n      <td>0</td>\n      <td>8</td>\n      <td>0</td>\n      <td>0</td>\n    </tr>\n    <tr>\n      <th>4</th>\n      <td>1</td>\n      <td>0</td>\n      <td>0</td>\n      <td>0</td>\n      <td>0</td>\n      <td>0</td>\n      <td>0</td>\n      <td>0</td>\n      <td>0</td>\n      <td>0</td>\n      <td>4</td>\n      <td>0</td>\n      <td>1</td>\n      <td>0</td>\n    </tr>\n    <tr>\n      <th>5</th>\n      <td>1</td>\n      <td>0</td>\n      <td>1</td>\n      <td>0</td>\n      <td>0</td>\n      <td>0</td>\n      <td>0</td>\n      <td>0</td>\n      <td>0</td>\n      <td>0</td>\n      <td>6</td>\n      <td>70</td>\n      <td>1</td>\n      <td>0</td>\n    </tr>\n  </tbody>\n</table>\n</div>"
     },
     "metadata": {},
     "execution_count": 4
    }
   ],
   "source": [
    "# Replacing the column names with their assigned numbers\n",
    "case_description_col_values = raw_case_description.rename(col_values_dict, axis=1)\n",
    "case_description_col_values.head()"
   ]
  },
  {
   "cell_type": "code",
   "execution_count": 5,
   "metadata": {
    "scrolled": true
   },
   "outputs": [
    {
     "output_type": "execute_result",
     "data": {
      "text/plain": [
       "array([[ 1,  1,  0,  1,  1,  1,  1,  1,  1,  1,  0,  1,  1,  0,  1,  1,\n",
       "         0,  1,  1,  1,  1,  1,  1,  0,  0,  1,  0,  1,  0,  1,  1,  1,\n",
       "         0,  0,  0,  1,  1,  1,  1,  0,  0,  1],\n",
       "       [ 0,  0,  1,  0,  0,  0,  0,  0,  0,  0,  1,  0,  0,  1,  0,  0,\n",
       "         1,  0,  0,  0,  0,  0,  0,  0,  0,  0,  0,  0,  0,  0,  0,  0,\n",
       "         0,  0,  0,  0,  0,  0,  0,  0,  0,  0],\n",
       "       [ 0,  0,  0,  0,  1,  0,  0,  0,  0,  0,  0,  0,  0,  0,  1,  0,\n",
       "         0,  0,  0,  0,  0,  0,  0,  0,  1,  0,  0,  0,  0,  0,  0,  0,\n",
       "         0,  1,  0,  0,  0,  0,  0,  0,  0,  0],\n",
       "       [ 0,  0,  0,  0,  0,  0,  0,  0,  0,  0,  0,  0,  0,  0,  0,  0,\n",
       "         0,  0,  0,  0,  0,  0,  0,  0,  0,  0,  1,  0,  0,  0,  0,  0,\n",
       "         0,  0,  1,  0,  0,  0,  0,  0,  0,  0],\n",
       "       [ 0,  0,  0,  0,  0,  0,  0,  0,  0,  0,  0,  0,  0,  0,  0,  0,\n",
       "         0,  0,  0,  0,  0,  0,  0,  1,  0,  0,  0,  0,  1,  0,  0,  0,\n",
       "         1,  0,  0,  0,  0,  0,  0,  1,  1,  0],\n",
       "       [ 0,  0,  0,  0,  0,  0,  0,  0,  0,  0,  0,  0,  0,  0,  0,  0,\n",
       "         0,  0,  0,  0,  0,  0,  0,  0,  0,  0,  0,  0,  0,  0,  0,  0,\n",
       "         0,  0,  0,  0,  1,  0,  1,  0,  0,  0],\n",
       "       [ 1,  0,  0,  0,  0,  0,  0,  0,  0,  1,  0,  1,  0,  0,  0,  0,\n",
       "         0,  0,  0,  0,  1,  0,  0,  0,  0,  0,  0,  0,  0,  0,  0,  0,\n",
       "         0,  0,  0,  0,  0,  0,  0,  0,  0,  0],\n",
       "       [ 0,  0,  0,  0,  0,  0,  0,  0,  0,  0,  0,  0,  0,  0,  0,  0,\n",
       "         0,  0,  0,  0,  0,  0,  0,  0,  0,  0,  0,  0,  0,  0,  0,  0,\n",
       "         0,  0,  0,  0,  0,  1,  1,  0,  1,  1],\n",
       "       [ 0,  0,  1,  0,  0,  0,  0,  0,  0,  0,  1,  0,  0,  1,  0,  0,\n",
       "         1,  0,  0,  0,  0,  0,  0,  0,  0,  0,  0,  0,  0,  0,  0,  0,\n",
       "         0,  0,  0,  0,  0,  0,  0,  0,  0,  0],\n",
       "       [ 4,  0,  2,  0,  0,  0,  0,  0,  9,  9,  2,  2,  4,  2,  0,  0,\n",
       "         2,  2,  6,  1,  1,  2,  2,  4,  4,  4,  4, 20,  5,  2,  2,  8,\n",
       "         8,  8,  6,  6,  6,  6,  6, 10, 10,  0],\n",
       "       [ 0,  2,  0,  4,  6,  6,  4,  4,  0,  0,  0,  0,  0,  0,  6,  2,\n",
       "         0,  0,  0,  0,  0,  0,  0,  0,  0,  0,  0,  0,  0,  0,  0,  0,\n",
       "         0,  0,  1,  0,  0,  0,  0,  0,  0,  4],\n",
       "       [26,  1,  8,  0, 70,  0, 30,  0, 64, 64,  5,  9, 26,  8, 70,  1,\n",
       "         5,  7, 19,  3,  3,  9, 11, 25, 25, 10, 25, 63, 37,  7, 12, 28,\n",
       "        28, 28, 28, 24, 16, 12, 16, 10,  8,  6],\n",
       "       [ 0,  0,  0,  1,  1,  1,  0,  1,  0,  0,  0,  0,  0,  0,  1,  0,\n",
       "         0,  0,  0,  0,  0,  0,  0,  0,  0,  0,  0,  0,  0,  0,  0,  1,\n",
       "         1,  1,  1,  0,  0,  0,  0,  0,  0,  1],\n",
       "       [ 0,  0,  0,  0,  0,  1,  1,  1,  0,  0,  0,  0,  0,  0,  0,  0,\n",
       "         0,  0,  0,  0,  0,  0,  0,  0,  0,  0,  0,  0,  0,  0,  0,  0,\n",
       "         0,  0,  0,  0,  0,  0,  0,  0,  0,  0]], dtype=int64)"
      ]
     },
     "metadata": {},
     "execution_count": 5
    }
   ],
   "source": [
    "# Converting dataframe to an array\n",
    "df_values = case_description_col_values.values\n",
    "\n",
    "# Transposing df_values to multiply the assigned name_int for each col_names\n",
    "transposed_df_values = df_values.T\n",
    "transposed_df_values"
   ]
  },
  {
   "cell_type": "code",
   "execution_count": 6,
   "metadata": {},
   "outputs": [],
   "source": [
    "def replace_list_elements(array_2D):\n",
    "    '''\n",
    "    takes in a 2D array and replaces each non-zero element of a list with an integer as assigned in col_values_dict\n",
    "    '''\n",
    "    \n",
    "    m = 5\n",
    "    replaced_element_list = []\n",
    "    \n",
    "    for i in array_2D:\n",
    "        replaced_element_list.append(np.where(i!=0, m, i))\n",
    "        m+=1\n",
    "    \n",
    "    return replaced_element_list"
   ]
  },
  {
   "cell_type": "code",
   "execution_count": 7,
   "metadata": {
    "scrolled": true
   },
   "outputs": [],
   "source": [
    "# Apply the replace_list_elements functiona and transpose back to original form\n",
    "replaced_integer_values = replace_list_elements(transposed_df_values)\n",
    "new_df_values = np.array(replaced_integer_values).T"
   ]
  },
  {
   "cell_type": "code",
   "execution_count": 8,
   "metadata": {},
   "outputs": [],
   "source": [
    "def repeat_elem(list_1, list_2):\n",
    "    \n",
    "    '''\n",
    "    Input = two lists (list_1, list_2)\n",
    "    Output = a list that has repeated elements of list_1 as many times as the corresponding number in list_2\n",
    "    '''\n",
    "\n",
    "    return list(itertools.chain(*(itertools.repeat(elem, n) for elem, n in zip(list_1, list_2))))"
   ]
  },
  {
   "cell_type": "code",
   "execution_count": 9,
   "metadata": {},
   "outputs": [],
   "source": [
    "def create_repeated_list(list_of_lists, repeat_ref):\n",
    "    \n",
    "    '''\n",
    "    takes in a list of lists and recreates lists with repeating elements as many times as the corresponding values\n",
    "    in the reference list\n",
    "    \n",
    "    The output does not contain any zeros as they are repeated zero times\n",
    "    \n",
    "    '''\n",
    "    repeated_list = []\n",
    "    \n",
    "    for i, j in zip(list_of_lists, repeat_ref):\n",
    "        repeated_list.append(repeat_elem(i, j))\n",
    "        \n",
    "    return repeated_list"
   ]
  },
  {
   "cell_type": "code",
   "execution_count": 10,
   "metadata": {},
   "outputs": [],
   "source": [
    "repeated_df_values = create_repeated_list(new_df_values, df_values)"
   ]
  },
  {
   "cell_type": "code",
   "execution_count": 11,
   "metadata": {},
   "outputs": [
    {
     "output_type": "execute_result",
     "data": {
      "text/plain": [
       "   0   1   2   3     4     5     6     7     8     9   ...    74    75    76  \\\n",
       "0   5  11  14  14  14.0  14.0  16.0  16.0  16.0  16.0  ...   0.0   0.0   0.0   \n",
       "1   5  15  15  16   0.0   0.0   0.0   0.0   0.0   0.0  ...   0.0   0.0   0.0   \n",
       "2   6  13  14  14  16.0  16.0  16.0  16.0  16.0  16.0  ...   0.0   0.0   0.0   \n",
       "3   5  15  15  15  15.0  17.0   0.0   0.0   0.0   0.0  ...   0.0   0.0   0.0   \n",
       "4   5   7  15  15  15.0  15.0  15.0  15.0  16.0  16.0  ...  16.0  16.0  16.0   \n",
       "\n",
       "     77    78   79   80   81   82   83  \n",
       "0   0.0   0.0  0.0  0.0  0.0  0.0  0.0  \n",
       "1   0.0   0.0  0.0  0.0  0.0  0.0  0.0  \n",
       "2   0.0   0.0  0.0  0.0  0.0  0.0  0.0  \n",
       "3   0.0   0.0  0.0  0.0  0.0  0.0  0.0  \n",
       "4  16.0  17.0  0.0  0.0  0.0  0.0  0.0  \n",
       "\n",
       "[5 rows x 84 columns]"
      ],
      "text/html": "<div>\n<style scoped>\n    .dataframe tbody tr th:only-of-type {\n        vertical-align: middle;\n    }\n\n    .dataframe tbody tr th {\n        vertical-align: top;\n    }\n\n    .dataframe thead th {\n        text-align: right;\n    }\n</style>\n<table border=\"1\" class=\"dataframe\">\n  <thead>\n    <tr style=\"text-align: right;\">\n      <th></th>\n      <th>0</th>\n      <th>1</th>\n      <th>2</th>\n      <th>3</th>\n      <th>4</th>\n      <th>5</th>\n      <th>6</th>\n      <th>7</th>\n      <th>8</th>\n      <th>9</th>\n      <th>...</th>\n      <th>74</th>\n      <th>75</th>\n      <th>76</th>\n      <th>77</th>\n      <th>78</th>\n      <th>79</th>\n      <th>80</th>\n      <th>81</th>\n      <th>82</th>\n      <th>83</th>\n    </tr>\n  </thead>\n  <tbody>\n    <tr>\n      <th>0</th>\n      <td>5</td>\n      <td>11</td>\n      <td>14</td>\n      <td>14</td>\n      <td>14.0</td>\n      <td>14.0</td>\n      <td>16.0</td>\n      <td>16.0</td>\n      <td>16.0</td>\n      <td>16.0</td>\n      <td>...</td>\n      <td>0.0</td>\n      <td>0.0</td>\n      <td>0.0</td>\n      <td>0.0</td>\n      <td>0.0</td>\n      <td>0.0</td>\n      <td>0.0</td>\n      <td>0.0</td>\n      <td>0.0</td>\n      <td>0.0</td>\n    </tr>\n    <tr>\n      <th>1</th>\n      <td>5</td>\n      <td>15</td>\n      <td>15</td>\n      <td>16</td>\n      <td>0.0</td>\n      <td>0.0</td>\n      <td>0.0</td>\n      <td>0.0</td>\n      <td>0.0</td>\n      <td>0.0</td>\n      <td>...</td>\n      <td>0.0</td>\n      <td>0.0</td>\n      <td>0.0</td>\n      <td>0.0</td>\n      <td>0.0</td>\n      <td>0.0</td>\n      <td>0.0</td>\n      <td>0.0</td>\n      <td>0.0</td>\n      <td>0.0</td>\n    </tr>\n    <tr>\n      <th>2</th>\n      <td>6</td>\n      <td>13</td>\n      <td>14</td>\n      <td>14</td>\n      <td>16.0</td>\n      <td>16.0</td>\n      <td>16.0</td>\n      <td>16.0</td>\n      <td>16.0</td>\n      <td>16.0</td>\n      <td>...</td>\n      <td>0.0</td>\n      <td>0.0</td>\n      <td>0.0</td>\n      <td>0.0</td>\n      <td>0.0</td>\n      <td>0.0</td>\n      <td>0.0</td>\n      <td>0.0</td>\n      <td>0.0</td>\n      <td>0.0</td>\n    </tr>\n    <tr>\n      <th>3</th>\n      <td>5</td>\n      <td>15</td>\n      <td>15</td>\n      <td>15</td>\n      <td>15.0</td>\n      <td>17.0</td>\n      <td>0.0</td>\n      <td>0.0</td>\n      <td>0.0</td>\n      <td>0.0</td>\n      <td>...</td>\n      <td>0.0</td>\n      <td>0.0</td>\n      <td>0.0</td>\n      <td>0.0</td>\n      <td>0.0</td>\n      <td>0.0</td>\n      <td>0.0</td>\n      <td>0.0</td>\n      <td>0.0</td>\n      <td>0.0</td>\n    </tr>\n    <tr>\n      <th>4</th>\n      <td>5</td>\n      <td>7</td>\n      <td>15</td>\n      <td>15</td>\n      <td>15.0</td>\n      <td>15.0</td>\n      <td>15.0</td>\n      <td>15.0</td>\n      <td>16.0</td>\n      <td>16.0</td>\n      <td>...</td>\n      <td>16.0</td>\n      <td>16.0</td>\n      <td>16.0</td>\n      <td>16.0</td>\n      <td>17.0</td>\n      <td>0.0</td>\n      <td>0.0</td>\n      <td>0.0</td>\n      <td>0.0</td>\n      <td>0.0</td>\n    </tr>\n  </tbody>\n</table>\n<p>5 rows × 84 columns</p>\n</div>"
     },
     "metadata": {},
     "execution_count": 11
    }
   ],
   "source": [
    "# Put all repeated_df_values in a dataframe\n",
    "encoded_df = pd.DataFrame(repeated_df_values).fillna(0)\n",
    "encoded_df.head()"
   ]
  },
  {
   "cell_type": "code",
   "execution_count": 12,
   "metadata": {},
   "outputs": [
    {
     "output_type": "stream",
     "name": "stdout",
     "text": [
      "(42, 84)\n"
     ]
    }
   ],
   "source": [
    "encoded_cases = encoded_df.iloc[:,:].values\n",
    "print(np.shape(encoded_cases))"
   ]
  },
  {
   "cell_type": "code",
   "execution_count": 13,
   "metadata": {},
   "outputs": [
    {
     "output_type": "execute_result",
     "data": {
      "text/plain": [
       "(42, 84)"
      ]
     },
     "metadata": {},
     "execution_count": 13
    }
   ],
   "source": [
    "encoded_cases_int = []\n",
    "\n",
    "for i in encoded_cases:\n",
    "    encoded_cases_int.append(i.astype(int))\n",
    "\n",
    "np.shape(encoded_cases_int)"
   ]
  },
  {
   "cell_type": "code",
   "execution_count": 14,
   "metadata": {},
   "outputs": [],
   "source": [
    "#Creating a dictionary where each key is the case no. and the key value is the respective case encoding\n",
    "encoded_case_vector_dict = {}\n",
    "for x in range(len(encoded_cases_int)):\n",
    "    encoded_case_vector_dict[\"case_{0}\".format(x+1)] = encoded_cases_int[x]"
   ]
  },
  {
   "cell_type": "code",
   "execution_count": 15,
   "metadata": {},
   "outputs": [],
   "source": [
    "all_case_vectors_padded = encoded_case_vector_dict.values()"
   ]
  },
  {
   "cell_type": "code",
   "execution_count": 16,
   "metadata": {},
   "outputs": [],
   "source": [
    "# case_dict.items() to get a list of keys and values of case pairs\n",
    "case_vector_pairs_items = list(itertools.combinations_with_replacement(encoded_case_vector_dict.items(), 2))\n",
    "\n",
    "# case_dict.keys() to get a list of keys of case pairs\n",
    "case_vector_pairs_keys = list(itertools.combinations_with_replacement(encoded_case_vector_dict.keys(), 2))\n",
    "\n",
    "# case_dict.values() to get a list of values of case pairs\n",
    "case_vector_pairs_values = list(itertools.combinations_with_replacement(encoded_case_vector_dict.values(), 2))"
   ]
  },
  {
   "cell_type": "code",
   "execution_count": 17,
   "metadata": {
    "scrolled": true
   },
   "outputs": [
    {
     "output_type": "stream",
     "name": "stdout",
     "text": [
      "903\n"
     ]
    }
   ],
   "source": [
    "print(len(case_vector_pairs_values))"
   ]
  },
  {
   "cell_type": "code",
   "execution_count": 18,
   "metadata": {},
   "outputs": [
    {
     "output_type": "execute_result",
     "data": {
      "text/plain": [
       "[('case_1', 'case_1'),\n",
       " ('case_1', 'case_2'),\n",
       " ('case_1', 'case_3'),\n",
       " ('case_1', 'case_4'),\n",
       " ('case_1', 'case_5')]"
      ]
     },
     "metadata": {},
     "execution_count": 18
    }
   ],
   "source": [
    "case_vector_pairs_keys[0:5]"
   ]
  },
  {
   "cell_type": "code",
   "execution_count": 19,
   "metadata": {},
   "outputs": [],
   "source": [
    "# Encoded case_vector_pairs_dataset where Input 1 is the first case of the case pair and \n",
    "# Input 2 is the second case of the case pair\n",
    "\n",
    "case_vector_pair_dataset = pd.DataFrame(case_vector_pairs_values, \n",
    "                                        columns = ['Input 1','Input 2'], \n",
    "                                        index = [case_vector_pairs_keys])\n",
    "\n",
    "case_vector_pair_dataset.index.names = [\"Case Pairs\"]"
   ]
  },
  {
   "cell_type": "code",
   "execution_count": 20,
   "metadata": {},
   "outputs": [],
   "source": [
    "# Storing all variables to be used in other notebooks\n",
    "\n",
    "with open('data/case_vector_pairs_keys.pickle', 'wb') as handle:\n",
    "    pickle.dump(case_vector_pairs_keys, handle, protocol=pickle.HIGHEST_PROTOCOL)\n",
    "with open('data/case_vector_pairs_values.pickle', 'wb') as handle:\n",
    "    pickle.dump(case_vector_pairs_values, handle, protocol=pickle.HIGHEST_PROTOCOL)\n",
    "with open('data/encoded_case_vector_dict.pickle', 'wb') as handle:\n",
    "    pickle.dump(encoded_case_vector_dict, handle, protocol=pickle.HIGHEST_PROTOCOL)\n",
    "with open('data/encoded_cases.pickle', 'wb') as handle:\n",
    "    pickle.dump(encoded_cases, handle, protocol=pickle.HIGHEST_PROTOCOL)\n",
    "with open('data/encoded_cases_int.pickle', 'wb') as handle:\n",
    "    pickle.dump(encoded_cases_int, handle, protocol=pickle.HIGHEST_PROTOCOL)\n",
    "with open('data/col_values_dict.pickle', 'wb') as handle:\n",
    "    pickle.dump(col_values_dict, handle, protocol=pickle.HIGHEST_PROTOCOL)"
   ]
  },
  {
   "cell_type": "code",
   "execution_count": null,
   "metadata": {},
   "outputs": [],
   "source": []
  }
 ],
 "metadata": {
  "kernelspec": {
   "name": "python394jvsc74a57bd0977fe8b80e1bcd8a8d4873b7c78faf839d8dfa4e36344861b29bdaae4877055a",
   "display_name": "Python 3.9.4 64-bit ('icml': conda)"
  },
  "language_info": {
   "codemirror_mode": {
    "name": "ipython",
    "version": 3
   },
   "file_extension": ".py",
   "mimetype": "text/x-python",
   "name": "python",
   "nbconvert_exporter": "python",
   "pygments_lexer": "ipython3",
   "version": "3.9.4"
  }
 },
 "nbformat": 4,
 "nbformat_minor": 4
}